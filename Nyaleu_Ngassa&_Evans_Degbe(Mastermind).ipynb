{
  "cells": [
    {
      "cell_type": "markdown",
      "metadata": {
        "id": "view-in-github",
        "colab_type": "text"
      },
      "source": [
        "<a href=\"https://colab.research.google.com/github/TekoEvans/Mastermind_te_he/blob/main/Nyaleu_Ngassa%26_Evans_Degbe(Mastermind).ipynb\" target=\"_parent\"><img src=\"https://colab.research.google.com/assets/colab-badge.svg\" alt=\"Open In Colab\"/></a>"
      ]
    },
    {
      "cell_type": "code",
      "execution_count": null,
      "metadata": {
        "colab": {
          "background_save": true,
          "base_uri": "https://localhost:8080/"
        },
        "id": "4xD33NFq_lyu",
        "outputId": "65471dc7-7302-406e-dc14-2bde4a6b1b57"
      },
      "outputs": [
        {
          "output_type": "stream",
          "name": "stdout",
          "text": [
            "\n",
            "Essai 1 sur 10. Il vous reste 10 essais.\n",
            "\n"
          ]
        }
      ],
      "source": [
        "import random\n",
        "\n",
        "NOMBRE_MAX_ESSAIS = 10\n",
        "LONGUEUR_SECRETE = 4  # Longueur de la séquence secrète\n",
        "NOMBRE_MAXIMUM = 9     # Chiffre maximal possible (de 0 à 9)\n",
        "compteur_essai = 1\n",
        "\n",
        "# Fonction de création de la liste secrète de chiffres à deviner par le joueur\n",
        "def generer_liste_secrete():\n",
        "    return [random.randint(0, NOMBRE_MAXIMUM) for _ in range(LONGUEUR_SECRETE)]\n",
        "\n",
        "# Fonction de création de la liste de chiffres du joueur\n",
        "def creer_liste_joueur():\n",
        "    liste_joueur = []\n",
        "    chiffre_donne_str = \"\"\n",
        "    while len(liste_joueur) < LONGUEUR_SECRETE:\n",
        "        chiffre_donne_str = input(f\"Entrez le chiffre {len(liste_joueur) + 1} : \")\n",
        "        if chiffre_donne_str.isdigit():\n",
        "            chiffre_donne = int(chiffre_donne_str)\n",
        "            if 0 <= chiffre_donne <= NOMBRE_MAXIMUM:\n",
        "                liste_joueur.append(chiffre_donne)\n",
        "            else:\n",
        "                print(f\"Vous devez entrer un chiffre entre 0 et {NOMBRE_MAXIMUM}.\")\n",
        "        else:\n",
        "            print(\"Veuillez entrer un chiffre valide.\")\n",
        "    return liste_joueur\n",
        "\n",
        "# Création de la partie\n",
        "liste_secrete_chiffres = generer_liste_secrete()\n",
        "\n",
        "while compteur_essai <= NOMBRE_MAX_ESSAIS:\n",
        "\n",
        "    positions_correctes = 0\n",
        "    chiffres_presents = 0\n",
        "\n",
        "    print(f\"\\nEssai {compteur_essai} sur {NOMBRE_MAX_ESSAIS}. Il vous reste {NOMBRE_MAX_ESSAIS - compteur_essai + 1} essais.\\n\")\n",
        "\n",
        "    liste_joueur_chiffres = creer_liste_joueur()\n",
        "\n",
        "    print(f\"Votre proposition est : {liste_joueur_chiffres}\")\n",
        "\n",
        "    if liste_joueur_chiffres == liste_secrete_chiffres:\n",
        "        print(\"Bravo vous avez trouvé la séquence secrète !\")\n",
        "        break\n",
        "\n",
        "    comptage_secret = {}\n",
        "    comptage_joueur = {}\n",
        "\n",
        "    # Comptage des chiffres dans les deux listes pour gérer les doublons\n",
        "    for chiffre in liste_secrete_chiffres:\n",
        "        comptage_secret[chiffre] = comptage_secret.get(chiffre, 0) + 1\n",
        "    for chiffre in liste_joueur_chiffres:\n",
        "        comptage_joueur[chiffre] = comptage_joueur.get(chiffre, 0) + 1\n",
        "\n",
        "    for i in range(LONGUEUR_SECRETE):\n",
        "        if liste_joueur_chiffres[i] == liste_secrete_chiffres[i]:\n",
        "            positions_correctes += 1\n",
        "        elif liste_joueur_chiffres[i] in liste_secrete_chiffres and comptage_secret.get(liste_joueur_chiffres[i], 0) > 0 and comptage_joueur.get(liste_joueur_chiffres[i], 0) > 0:\n",
        "            chiffres_presents += 1\n",
        "            comptage_secret[liste_joueur_chiffres[i]] -= 1\n",
        "            comptage_joueur[liste_joueur_chiffres[i]] -= 1\n",
        "\n",
        "\n",
        "    print(f\"Vous avez :\")\n",
        "    print(f\"\\t* {positions_correctes} chiffre(s) bien placé(s)\")\n",
        "    if positions_correctes < LONGUEUR_SECRETE:\n",
        "        print(f\"\\t- {chiffres_presents} chiffre(s) présent(s) mais mal placé(s)\")\n",
        "    print('_'*65,'\\n')\n",
        "\n",
        "    compteur_essai += 1\n",
        "\n",
        "if liste_joueur_chiffres == liste_secrete_chiffres:\n",
        "    print(\"Bravo vous avez trouvé la séquence secrète !\")\n",
        "else :\n",
        "    print(f\"Vous avez perdu la partie...\\nLa séquence secrète était : {liste_secrete_chiffres}\")"
      ]
    }
  ],
  "metadata": {
    "colab": {
      "provenance": [],
      "toc_visible": true,
      "authorship_tag": "ABX9TyO05eXA+Typ+RFxCgJavfkp",
      "include_colab_link": true
    },
    "kernelspec": {
      "display_name": "Python 3",
      "name": "python3"
    },
    "language_info": {
      "name": "python"
    }
  },
  "nbformat": 4,
  "nbformat_minor": 0
}